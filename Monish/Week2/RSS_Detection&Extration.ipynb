{
 "cells": [
  {
   "cell_type": "markdown",
   "metadata": {},
   "source": [
    "# Given a list of http address finding feed urls\n",
    "## the return could be rss or atom or rdf"
   ]
  },
  {
   "cell_type": "code",
   "execution_count": 38,
   "metadata": {},
   "outputs": [],
   "source": [
    "from feedsearch import search\n",
    "import pandas as pd"
   ]
  },
  {
   "cell_type": "code",
   "execution_count": 15,
   "metadata": {
    "scrolled": true
   },
   "outputs": [
    {
     "name": "stdout",
     "output_type": "stream",
     "text": [
      "https://www.analyticsvidhya.com/feed/\n",
      "https://fivethirtyeight.com/features/feed/\n",
      "https://go.forrester.com/blogs/feed/\n",
      "https://www.ibm.com/blogs/journey-to-ai/feed/atom/\n",
      "https://www.oreilly.com/radar/topics/ai-ml/feed/index.xml\n",
      "https://www.oreilly.com/radar/feed/index.xml\n",
      "https://www.r-bloggers.com/feed/\n",
      "https://blogs.sas.com/content/feed/\n",
      "https://blogs.sas.com/content/feed/\n",
      "https://www.smartdatacollective.com/feed/\n",
      "https://analyticstrategy.com/feed/\n",
      "https://www.thejuliagroup.com/blog/\n",
      "https://algobeans.com/feed/\n",
      "http://arilamstein.com/feed/\n",
      "https://www.beyondtheboxscore.com/rss/current.xml\n",
      "http://bigdatatobigprofits.com/feed/\n",
      "https://www.zdnet.com/blog/big-data/rss.xml\n",
      "https://blogstats.wordpress.com/feed/\n",
      "https://practicalanalytics.wordpress.com/feed/\n",
      "http://feeds.feedburner.com/bzstblog\n",
      "https://www.blogger.com/feeds/10004977/posts/default\n",
      "https://blog.cluster-text.com/feed/\n",
      "https://cooldata.wordpress.com/feed/\n",
      "http://www.dataminingblog.com/comments/feed/\n",
      "http://feeds.feedburner.com/DataMining\n",
      "https://data-mining.philippe-fournier-viger.com/feed/\n",
      "https://ryanswanstrom.com/feed/\n",
      "https://www.becomingadatascientist.com/feed/atom/\n",
      "http://www.datatau.com/rss\n",
      "https://data36.com/feed/\n",
      "https://www.dataquest.io/feed/\n",
      "https://decisionstats.com/feed/\n",
      "https://www.deep-data-mining.com/feeds/posts/default?alt=rss\n",
      "https://blog.dominodatalab.com/feed/\n",
      "https://www.eminenture.com/blog/feed/\n",
      "https://errorstatistics.com/feed/\n",
      "http://fastml.com/atom.xml\n",
      "https://datamakesworld.com/feed/\n",
      "https://flowingdata.com/feed\n",
      "https://freakonometrics.hypotheses.org/category/recherche-research/books-research/feed\n",
      "https://freakonomics.com/feed/\n",
      "https://www.blogger.com/feeds/6569681/posts/default\n",
      "http://feeds.feedburner.com/Commentology\n",
      "https://robjhyndman.com/index.xml\n",
      "https://www.ibm.com/blogs/journey-to-ai/feed/atom/\n",
      "http://feeds.feedburner.com/InformationIsBeautiful\n",
      "https://www.innoarchitech.com/home?format=rss\n",
      "https://jmanton.wordpress.com/feed/\n",
      "http://feeds.feedburner.com/jtonedm\n",
      "https://www.juiceanalytics.com/writing?format=rss\n",
      "https://justindomke.wordpress.com/feed/\n",
      "https://medium.com/feed/kaggle-blog\n",
      "https://www.blogger.com/feeds/3211409948956809184/posts/default\n",
      "http://learninglover.com/blog/comments/feed/\n",
      "https://lingpipe-blog.com/feed/\n",
      "https://lovestats.wordpress.com/feed/\n",
      "https://machinelearningmastery.com/comments/feed/\n",
      "http://www.machinedlearnings.com/feeds/posts/default?alt=rss\n",
      "https://www.blogger.com/feeds/9098491274069764048/posts/default\n",
      "https://www.mdmgeek.com/feed/\n",
      "https://www.blogger.com/feeds/32202893/posts/default\n",
      "http://feeds.feedburner.com/net-savvy\n",
      "http://feeds.feedburner.com/blogspot/wCeDd\n",
      "https://junkcharts.typepad.com/numbersruleyourworld/atom.xml\n",
      "http://observationalepidemiology.blogspot.com/feeds/posts/default?alt=rss\n",
      "https://www.overcomingbias.com/feed\n",
      "https://prateekvjoshi.com/author/prateekvjoshi/feed/\n",
      "https://www.predictiveanalyticsworld.com/feed/\n",
      "https://statisticsblog.com/feed/atom/\n",
      "https://www.r-statistics.com/feed/\n",
      "http://yyue.blogspot.com/feeds/posts/default?alt=rss\n",
      "https://blog.revolutionanalytics.com/atom.xml\n",
      "https://athena-solutions.com/feed/\n",
      "https://rgrossman.com/feed.xml\n",
      "http://blog.philbirnbaum.com/feeds/posts/default?alt=rss\n",
      "https://shapeofdata.wordpress.com/feed/\n",
      "https://www.svds.com/feed/\n",
      "https://simplystatistics.org/index.xml\n",
      "https://www.smarten.com/feed/\n",
      "https://statisfaction.wordpress.com/feed/\n",
      "https://statmodeling.stat.columbia.edu/feed/\n",
      "https://statistically-funny.blogspot.com/feeds/posts/default?alt=rss\n",
      "https://blog.statsbot.co/feed\n",
      "https://statswithcats.net/feed/\n",
      "https://www.information-management.com/voices.rss\n",
      "https://www.tatvic.com/feed/\n",
      "https://www.badscience.net/feed/atom/\n",
      "http://feeds.feedburner.com/TheGeomblog\n",
      "https://www.theguardian.com/data/rss\n",
      "https://www.johndcook.com/blog/feed/\n",
      "http://themainstreamseer.blogspot.com/feeds/posts/default?alt=rss\n",
      "http://practicalquant.blogspot.com/feeds/posts/default?alt=rss\n",
      "http://bactra.org/weblog/index.rss\n",
      "https://www.analyticbridge.datasciencecentral.com/activity/log/list?fmt=rss&screenName=vi0zmqyuk8ci\n",
      "https://walkingrandomly.com/?feed=comments-rss2\n",
      "https://whatsthebigdata.com/feed/\n",
      "https://xianblog.wordpress.com/feed/\n"
     ]
    }
   ],
   "source": [
    "fUrl = open(\"URLs.txt\",\"r\")\n",
    "fFeed = open(\"FeedUrl.txt\",\"a\")\n",
    "line = f.read()\n",
    "line = line.split(\"\\n\")\n",
    "\n",
    "for url in line:\n",
    "    try:\n",
    "        feeds = search(url)\n",
    "        print(feeds[0].url)\n",
    "        fFeed.write(feeds[0].url+\"\\n\")\n",
    "    except:\n",
    "        pass\n",
    "\n",
    "fUrl.close()\n",
    "fFeed.close()"
   ]
  },
  {
   "cell_type": "markdown",
   "metadata": {},
   "source": [
    "# Building different models to extract RSS Feeds"
   ]
  },
  {
   "cell_type": "markdown",
   "metadata": {},
   "source": [
    "## Complete implementation of extractor"
   ]
  },
  {
   "cell_type": "code",
   "execution_count": 25,
   "metadata": {},
   "outputs": [],
   "source": [
    "import urllib3\n",
    "import certifi\n",
    "import re\n",
    "import time\n",
    "import csv"
   ]
  },
  {
   "cell_type": "code",
   "execution_count": 27,
   "metadata": {},
   "outputs": [
    {
     "name": "stdout",
     "output_type": "stream",
     "text": [
      "Execution Time : 203.53783106803894\n"
     ]
    }
   ],
   "source": [
    "CsvWriter = open(\"Feed_Data.csv\",\"w\")\n",
    "writer = csv.writer(CsvWriter)\n",
    "writer.writerow([\"Title\",\"Date\"])\n",
    "\n",
    "FeedFile = open(\"FeedUrl.txt\",\"r\")\n",
    "line = FeedFile.read()\n",
    "line = line.split(\"\\n\")\n",
    "\n",
    "start_time = time.time()\n",
    "for url in line:\n",
    "    http = urllib3.PoolManager(ca_certs=certifi.where())\n",
    "    response = http.request(\"GET\",url).data.decode(\"utf-8\")\n",
    "    titles = re.findall(r\"<title>(.*?)</title>\",response)\n",
    "    Dates = re.findall(r\"<pubDate>(.*?)</pubDate>\",response)\n",
    "    for title,date in zip(titles,Dates):\n",
    "        writer.writerow([title,date])\n",
    "print(\"Execution Time :\",time.time()-start_time)\n",
    "\n",
    "FeedFile.close()\n",
    "CsvWriter.close()"
   ]
  },
  {
   "cell_type": "markdown",
   "metadata": {},
   "source": [
    "## Using FeedParser"
   ]
  },
  {
   "cell_type": "code",
   "execution_count": 28,
   "metadata": {},
   "outputs": [],
   "source": [
    "import feedparser"
   ]
  },
  {
   "cell_type": "code",
   "execution_count": 35,
   "metadata": {},
   "outputs": [
    {
     "name": "stdout",
     "output_type": "stream",
     "text": [
      "Execution Time : 159.00795602798462 seconds\n"
     ]
    }
   ],
   "source": [
    "CsvWriter = open(\"FeedParser_Data.csv\",\"w\")\n",
    "writer = csv.writer(CsvWriter)\n",
    "writer.writerow([\"Title\",\"Date\"])\n",
    "\n",
    "FeedFile = open(\"FeedUrl.txt\",\"r\")\n",
    "line = FeedFile.read()\n",
    "line = line.split(\"\\n\")\n",
    "\n",
    "start_time = time.time()\n",
    "for url in line:\n",
    "    f = feedparser.parse(url)\n",
    "    for entry in f.entries:\n",
    "        try:\n",
    "            writer.writerow([entry.title,entry.published])\n",
    "        except:\n",
    "            writer.writerow(entry.title)\n",
    "\n",
    "print(\"Execution Time :\",time.time()-start_time,\"seconds\")\n",
    "\n",
    "FeedFile.close()\n",
    "CsvWriter.close()"
   ]
  },
  {
   "cell_type": "markdown",
   "metadata": {},
   "source": [
    "### so the execution time isn't much different\n",
    "### But FeedParser library has better DRY principle \n",
    "### Planning to use FeedParser"
   ]
  },
  {
   "cell_type": "code",
   "execution_count": 40,
   "metadata": {},
   "outputs": [
    {
     "data": {
      "text/html": [
       "<div>\n",
       "<style scoped>\n",
       "    .dataframe tbody tr th:only-of-type {\n",
       "        vertical-align: middle;\n",
       "    }\n",
       "\n",
       "    .dataframe tbody tr th {\n",
       "        vertical-align: top;\n",
       "    }\n",
       "\n",
       "    .dataframe thead th {\n",
       "        text-align: right;\n",
       "    }\n",
       "</style>\n",
       "<table border=\"1\" class=\"dataframe\">\n",
       "  <thead>\n",
       "    <tr style=\"text-align: right;\">\n",
       "      <th></th>\n",
       "      <th>Title</th>\n",
       "      <th>Date</th>\n",
       "    </tr>\n",
       "  </thead>\n",
       "  <tbody>\n",
       "    <tr>\n",
       "      <th>0</th>\n",
       "      <td>Analytics Vidhya</td>\n",
       "      <td>Thu, 03 Jun 2021 11:09:23 +0000</td>\n",
       "    </tr>\n",
       "    <tr>\n",
       "      <th>1</th>\n",
       "      <td>Analytics Vidhya</td>\n",
       "      <td>Thu, 03 Jun 2021 09:41:22 +0000</td>\n",
       "    </tr>\n",
       "    <tr>\n",
       "      <th>2</th>\n",
       "      <td>Will MLOps change the future of the healthcare...</td>\n",
       "      <td>Wed, 02 Jun 2021 11:20:57 +0000</td>\n",
       "    </tr>\n",
       "    <tr>\n",
       "      <th>3</th>\n",
       "      <td>4 Use Cases All Data Scientist Should Learn</td>\n",
       "      <td>Wed, 02 Jun 2021 10:57:38 +0000</td>\n",
       "    </tr>\n",
       "    <tr>\n",
       "      <th>4</th>\n",
       "      <td>A complete guide to doing Geospatial Analytics</td>\n",
       "      <td>Wed, 02 Jun 2021 09:58:12 +0000</td>\n",
       "    </tr>\n",
       "  </tbody>\n",
       "</table>\n",
       "</div>"
      ],
      "text/plain": [
       "                                               Title  \\\n",
       "0                                   Analytics Vidhya   \n",
       "1                                   Analytics Vidhya   \n",
       "2  Will MLOps change the future of the healthcare...   \n",
       "3        4 Use Cases All Data Scientist Should Learn   \n",
       "4     A complete guide to doing Geospatial Analytics   \n",
       "\n",
       "                              Date  \n",
       "0  Thu, 03 Jun 2021 11:09:23 +0000  \n",
       "1  Thu, 03 Jun 2021 09:41:22 +0000  \n",
       "2  Wed, 02 Jun 2021 11:20:57 +0000  \n",
       "3  Wed, 02 Jun 2021 10:57:38 +0000  \n",
       "4  Wed, 02 Jun 2021 09:58:12 +0000  "
      ]
     },
     "execution_count": 40,
     "metadata": {},
     "output_type": "execute_result"
    }
   ],
   "source": [
    "df = pd.read_csv(\"Feed_Data.csv\")\n",
    "df.head()"
   ]
  }
 ],
 "metadata": {
  "kernelspec": {
   "display_name": "Python 3",
   "language": "python",
   "name": "python3"
  },
  "language_info": {
   "codemirror_mode": {
    "name": "ipython",
    "version": 3
   },
   "file_extension": ".py",
   "mimetype": "text/x-python",
   "name": "python",
   "nbconvert_exporter": "python",
   "pygments_lexer": "ipython3",
   "version": "3.8.5"
  }
 },
 "nbformat": 4,
 "nbformat_minor": 4
}
